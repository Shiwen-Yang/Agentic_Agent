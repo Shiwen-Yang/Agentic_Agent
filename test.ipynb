{
 "cells": [
  {
   "cell_type": "code",
   "execution_count": 11,
   "id": "d1a1fe7a",
   "metadata": {},
   "outputs": [],
   "source": [
    "from Data_Handling import handler as HD\n",
    "from ydata_profiling import ProfileReport"
   ]
  },
  {
   "cell_type": "code",
   "execution_count": 12,
   "id": "96a640b1",
   "metadata": {},
   "outputs": [],
   "source": [
    "path = 'Data_Sets/churn.csv'"
   ]
  },
  {
   "cell_type": "code",
   "execution_count": 13,
   "id": "f3ea3266",
   "metadata": {},
   "outputs": [],
   "source": [
    "df=HD.load_dataset(path)"
   ]
  },
  {
   "cell_type": "code",
   "execution_count": 14,
   "id": "48f47dde",
   "metadata": {},
   "outputs": [
    {
     "data": {
      "text/plain": [
       "{'RowNumber': 10000,\n",
       " 'CustomerId': 10000,\n",
       " 'Surname': 2932,\n",
       " 'CreditScore': 460,\n",
       " 'Geography': 3,\n",
       " 'Gender': 2,\n",
       " 'Age': 70,\n",
       " 'Tenure': 11,\n",
       " 'Balance': 6382,\n",
       " 'NumOfProducts': 4,\n",
       " 'HasCrCard': 2,\n",
       " 'IsActiveMember': 2,\n",
       " 'EstimatedSalary': 9999,\n",
       " 'Exited': 2}"
      ]
     },
     "execution_count": 14,
     "metadata": {},
     "output_type": "execute_result"
    }
   ],
   "source": [
    "HD.get_unique_counts(df)"
   ]
  },
  {
   "cell_type": "code",
   "execution_count": null,
   "id": "b3cfdc4e",
   "metadata": {},
   "outputs": [],
   "source": []
  },
  {
   "cell_type": "code",
   "execution_count": 16,
   "id": "9084abdd",
   "metadata": {},
   "outputs": [
    {
     "data": {
      "application/vnd.jupyter.widget-view+json": {
       "model_id": "69fb72fec7134cc7b5a44bd2ffb7fecd",
       "version_major": 2,
       "version_minor": 0
      },
      "text/plain": [
       "Summarize dataset:   0%|          | 0/5 [00:00<?, ?it/s]"
      ]
     },
     "metadata": {},
     "output_type": "display_data"
    },
    {
     "name": "stderr",
     "output_type": "stream",
     "text": [
      "100%|██████████| 14/14 [00:00<00:00, 196.94it/s]\n"
     ]
    },
    {
     "data": {
      "application/vnd.jupyter.widget-view+json": {
       "model_id": "f3d90fa1cdf043f6ba9356effdb994a1",
       "version_major": 2,
       "version_minor": 0
      },
      "text/plain": [
       "Generate report structure:   0%|          | 0/1 [00:00<?, ?it/s]"
      ]
     },
     "metadata": {},
     "output_type": "display_data"
    },
    {
     "data": {
      "application/vnd.jupyter.widget-view+json": {
       "model_id": "083a1acd58784a1cadc93626a08ff4fe",
       "version_major": 2,
       "version_minor": 0
      },
      "text/plain": [
       "Render HTML:   0%|          | 0/1 [00:00<?, ?it/s]"
      ]
     },
     "metadata": {},
     "output_type": "display_data"
    },
    {
     "data": {
      "application/vnd.jupyter.widget-view+json": {
       "model_id": "7fb6beb9b39b4ddca10c96c1fffce9ba",
       "version_major": 2,
       "version_minor": 0
      },
      "text/plain": [
       "Export report to file:   0%|          | 0/1 [00:00<?, ?it/s]"
      ]
     },
     "metadata": {},
     "output_type": "display_data"
    }
   ],
   "source": [
    "profile = ProfileReport(df, title=\"EDA Report\", explorative=True)\n",
    "profile.to_file(\"report.html\")"
   ]
  }
 ],
 "metadata": {
  "kernelspec": {
   "display_name": "base",
   "language": "python",
   "name": "python3"
  },
  "language_info": {
   "codemirror_mode": {
    "name": "ipython",
    "version": 3
   },
   "file_extension": ".py",
   "mimetype": "text/x-python",
   "name": "python",
   "nbconvert_exporter": "python",
   "pygments_lexer": "ipython3",
   "version": "3.12.7"
  }
 },
 "nbformat": 4,
 "nbformat_minor": 5
}
